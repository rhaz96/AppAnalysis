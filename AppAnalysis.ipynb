{
 "cells": [
  {
   "cell_type": "markdown",
   "metadata": {},
   "source": [
    "# Got Profit? Examining the profiles of the best apps on the App Store and Google Play Store\n",
    "\n",
    "The purpose of this project is to examine free apps on the Apple App Store and Google Play Store to help developers understand what kinds of apps are likely to attract more users.  This is crucial since free apps rely only on in-app advertisements for revenue, so we want to focus on maximizing appeal for these types of apps.\n",
    "\n",
    "Personal goals of this project include using Python to build functions that open and read data, clean up incorrect data, and extract insights from raw data relevant to the project's objective."
   ]
  },
  {
   "cell_type": "markdown",
   "metadata": {},
   "source": [
    "## Open and Retrieve DataSets\n",
    "\n",
    "The ```get_data``` function transforms the raw data from a bunch of strings to a list of lists, which is much easier to examine (human-wise and code-wise). The ```explore_data``` function allows you to examine any portion of a dataset, provided a dataset and start and end point."
   ]
  },
  {
   "cell_type": "code",
   "execution_count": 1,
   "metadata": {},
   "outputs": [],
   "source": [
    "from csv import reader\n",
    "\n",
    "def get_data(data_file):\n",
    "    file_open = open(data_file)\n",
    "    file_read = reader(file_open)\n",
    "    file_data = list(file_read) # a list of lists\n",
    "    return file_data \n",
    "\n",
    "apple_data = get_data('AppleStore.csv')\n",
    "google_data= get_data('googleplaystore.csv')\n",
    "\n",
    "def explore_data(dataset, start, end, rows_and_columns=False):\n",
    "    dataset_slice = dataset[start:end]    \n",
    "    for row in dataset_slice:\n",
    "        print(row)\n",
    "        print('\\n') # adds a new (empty) line after each row\n",
    "\n",
    "    if rows_and_columns:\n",
    "        print('Number of rows:', len(dataset))\n",
    "        print('Number of columns:', len(dataset[0]))\n",
    "\n"
   ]
  },
  {
   "cell_type": "markdown",
   "metadata": {},
   "source": [
    "Let's look at a couple of rows from each dataset and see which ones may be of interest for the purpose of this project.\n",
    "\n",
    "Here's info from the App Store:"
   ]
  },
  {
   "cell_type": "code",
   "execution_count": 2,
   "metadata": {},
   "outputs": [
    {
     "name": "stdout",
     "output_type": "stream",
     "text": [
      "['id', 'track_name', 'size_bytes', 'currency', 'price', 'rating_count_tot', 'rating_count_ver', 'user_rating', 'user_rating_ver', 'ver', 'cont_rating', 'prime_genre', 'sup_devices.num', 'ipadSc_urls.num', 'lang.num', 'vpp_lic']\n",
      "\n",
      "\n",
      "['284882215', 'Facebook', '389879808', 'USD', '0.0', '2974676', '212', '3.5', '3.5', '95.0', '4+', 'Social Networking', '37', '1', '29', '1']\n",
      "\n",
      "\n",
      "['389801252', 'Instagram', '113954816', 'USD', '0.0', '2161558', '1289', '4.5', '4.0', '10.23', '12+', 'Photo & Video', '37', '0', '29', '1']\n",
      "\n",
      "\n",
      "Number of rows: 7198\n",
      "Number of columns: 16\n"
     ]
    }
   ],
   "source": [
    "explore_data(apple_data, 0, 3, True)"
   ]
  },
  {
   "cell_type": "markdown",
   "metadata": {},
   "source": [
    "And here's info from the Play Store:"
   ]
  },
  {
   "cell_type": "code",
   "execution_count": 3,
   "metadata": {},
   "outputs": [
    {
     "name": "stdout",
     "output_type": "stream",
     "text": [
      "['App', 'Category', 'Rating', 'Reviews', 'Size', 'Installs', 'Type', 'Price', 'Content Rating', 'Genres', 'Last Updated', 'Current Ver', 'Android Ver']\n",
      "\n",
      "\n",
      "['Photo Editor & Candy Camera & Grid & ScrapBook', 'ART_AND_DESIGN', '4.1', '159', '19M', '10,000+', 'Free', '0', 'Everyone', 'Art & Design', 'January 7, 2018', '1.0.0', '4.0.3 and up']\n",
      "\n",
      "\n",
      "['Coloring book moana', 'ART_AND_DESIGN', '3.9', '967', '14M', '500,000+', 'Free', '0', 'Everyone', 'Art & Design;Pretend Play', 'January 15, 2018', '2.0.0', '4.0.3 and up']\n",
      "\n",
      "\n",
      "Number of rows: 10842\n",
      "Number of columns: 13\n"
     ]
    }
   ],
   "source": [
    "explore_data(google_data, 0, 3, True)"
   ]
  },
  {
   "cell_type": "markdown",
   "metadata": {},
   "source": [
    "The App Store data contains ~7200 rows and 16 columns, while the data from the Play Store contains ~ 11000 rows and 14 columns.\n",
    "\n",
    "At a glance it seems the most relevant columns for the App Store include ```track_name```, ```size_bytes```, ```user_rating```, ```prime_genre```,```rating_count_tot```, and ```cont_rating```.\n",
    "\n",
    "For the Play Store it seems like ```App```, ```Category```, ```Rating```, ```Size```, ```Price```, ```Installs```, and ```Genres```.\n",
    "\n",
    "The column names for the Play Store dataset are more self-explanatory, but not so for the App Store data.  For more info on its columns, here's where you can find the [documentation](https://www.kaggle.com/ramamet4/app-store-apple-data-set-10k-apps/home)."
   ]
  },
  {
   "cell_type": "markdown",
   "metadata": {},
   "source": [
    "## Finding and Removing Incorrect Data\n",
    "\n",
    "This [link](https://www.kaggle.com/lava18/google-play-store-apps/discussion/66015) has a discussion that flagged an error in the Play Store dataset.  Row 10473 is missing the ```Rating``` value.  As an aside, the author of the post says 10472, but that's if the header row is removed.  The header row is not removed here.\n",
    "\n",
    "Here's a look:"
   ]
  },
  {
   "cell_type": "code",
   "execution_count": 4,
   "metadata": {},
   "outputs": [
    {
     "name": "stdout",
     "output_type": "stream",
     "text": [
      "['Life Made WI-Fi Touchscreen Photo Frame', '1.9', '19', '3.0M', '1,000+', 'Free', '0', 'Everyone', '', 'February 11, 2018', '1.0.19', '4.0 and up']\n",
      "\n",
      "\n"
     ]
    }
   ],
   "source": [
    "explore_data(google_data, 10473, 10474)"
   ]
  },
  {
   "cell_type": "markdown",
   "metadata": {},
   "source": [
    "The empty string (right before ```February 11, 2018``` specifies a missing value for ```Rating```.  This row will be removed."
   ]
  },
  {
   "cell_type": "code",
   "execution_count": 5,
   "metadata": {},
   "outputs": [],
   "source": [
    "del google_data[10473] # don't execute more than once"
   ]
  },
  {
   "cell_type": "markdown",
   "metadata": {},
   "source": [
    "## Finding Duplicate Data\n",
    "\n",
    "There's another problem in the Play Store dataset: some apps are repeated more than once.  We can find how many apps are duplicated.\n",
    "\n",
    "The first time an app is encountered, its name will be added to ```unique_apps```.  The function also checks that list to see if the app is encounted again as it iterates over ```google_data```.   If so, that app name will be also added to the ```duplicate_apps``` list.\n"
   ]
  },
  {
   "cell_type": "code",
   "execution_count": 6,
   "metadata": {},
   "outputs": [
    {
     "name": "stdout",
     "output_type": "stream",
     "text": [
      "1181\n",
      "['Quick PDF Scanner + OCR FREE', 'Box', 'Google My Business', 'ZOOM Cloud Meetings', 'join.me - Simple Meetings', 'Box', 'Zenefits', 'Google Ads']\n"
     ]
    }
   ],
   "source": [
    "duplicate_apps = []\n",
    "unique_apps = []\n",
    "\n",
    "for app in google_data[1:]:\n",
    "    name = app[0]\n",
    "    if name in unique_apps:\n",
    "        duplicate_apps.append(name)\n",
    "    unique_apps.append(name)\n",
    "\n",
    "print(len(duplicate_apps))\n",
    "print(duplicate_apps[:8])    "
   ]
  },
  {
   "cell_type": "markdown",
   "metadata": {},
   "source": [
    "Let's see how many times the app *Zenefits* is duplicated.  It is duplicated twice."
   ]
  },
  {
   "cell_type": "code",
   "execution_count": 7,
   "metadata": {},
   "outputs": [
    {
     "name": "stdout",
     "output_type": "stream",
     "text": [
      "['Zenefits', 'BUSINESS', '4.2', '296', '14M', '50,000+', 'Free', '0', 'Everyone', 'Business', 'June 15, 2018', '3.2.1', '4.1 and up']\n",
      "['Zenefits', 'BUSINESS', '4.2', '296', '14M', '50,000+', 'Free', '0', 'Everyone', 'Business', 'June 15, 2018', '3.2.1', '4.1 and up']\n"
     ]
    }
   ],
   "source": [
    "for app in google_data[1:]:\n",
    "    name = app[0]\n",
    "    if name == 'Zenefits':\n",
    "        print(app)"
   ]
  },
  {
   "cell_type": "markdown",
   "metadata": {},
   "source": [
    "## Removing Duplicate Data\n",
    "\n",
    "How should duplicate data be removed?  We can specify some type of criteria, like only keeping the entry with the greatest number of reviews.  Alternatively, we can keep the most recent version.  Either is fine, but we'll use the first criteria.\n",
    "\n",
    "The code below will search the Play Store data to find the greatest number of reviews for each app, storing the results in a dictionary."
   ]
  },
  {
   "cell_type": "code",
   "execution_count": 8,
   "metadata": {},
   "outputs": [],
   "source": [
    "reviews_max = {}\n",
    "\n",
    "for app in google_data[1:]:\n",
    "    name = app[0]\n",
    "    n_reviews = float(app[3])\n",
    "    \n",
    "    if name in reviews_max and reviews_max[name] < n_reviews:\n",
    "        reviews_max[name] = n_reviews\n",
    "    \n",
    "    elif name not in reviews_max:\n",
    "        reviews_max[name] = n_reviews"
   ]
  },
  {
   "cell_type": "markdown",
   "metadata": {
    "collapsed": true
   },
   "source": [
    "Now we'll remove the duplicate rows.  We want to search through the Play Store dataset and check if the number of reviews for any given app matches that of the ```review_max``` dictionary defined previously."
   ]
  },
  {
   "cell_type": "code",
   "execution_count": 9,
   "metadata": {},
   "outputs": [
    {
     "data": {
      "text/plain": [
       "9659"
      ]
     },
     "execution_count": 9,
     "metadata": {},
     "output_type": "execute_result"
    }
   ],
   "source": [
    "android_clean = [] # the clean data set\n",
    "already_added = [] # the app names\n",
    "\n",
    "for app in google_data[1:]:\n",
    "    name = app[0]\n",
    "    n_reviews = float(app[3])\n",
    "    \n",
    "    if n_reviews == reviews_max[name] and name not in already_added:\n",
    "        android_clean.append(app)\n",
    "        already_added.append(name)\n",
    "        \n",
    "len(android_clean)"
   ]
  },
  {
   "cell_type": "markdown",
   "metadata": {},
   "source": [
    "## Removing Non-English Apps\n",
    "\n",
    "Some apps in the Google Play store are non-English, but we are only interested in apps that are English since the company developers use English only.\n",
    "\n",
    "This means we'll have to filter out the non-English apps from the dataset.  \n",
    "\n",
    "One way to accomplish this is to examine the ASCII numeric equivalent for English chracters: the English alphabet, digits 0-9, punctuation marks, and other symbols (+, *, /, etc).\n",
    "\n",
    "The ```ord``` built-in Python function gives us the ASCII equivalent."
   ]
  },
  {
   "cell_type": "code",
   "execution_count": 10,
   "metadata": {},
   "outputs": [
    {
     "name": "stdout",
     "output_type": "stream",
     "text": [
      "114\n"
     ]
    }
   ],
   "source": [
    "print(ord('r'))"
   ]
  },
  {
   "cell_type": "markdown",
   "metadata": {},
   "source": [
    "The ASCII equivalents for characters used in English text are all in the range of 0 to 127."
   ]
  },
  {
   "cell_type": "markdown",
   "metadata": {},
   "source": [
    "The first step is to define a function that interates over an app name and checks if any of the characters are outside the ASCII equivalent of 0-127 (in this case, any equivalent of 128 or above meets this condition)."
   ]
  },
  {
   "cell_type": "code",
   "execution_count": 11,
   "metadata": {},
   "outputs": [],
   "source": [
    "def is_English(name):\n",
    "    for char in name:\n",
    "        if ord(char) > 127:\n",
    "            return False\n",
    "    return True"
   ]
  },
  {
   "cell_type": "markdown",
   "metadata": {},
   "source": [
    "Let's check it out."
   ]
  },
  {
   "cell_type": "code",
   "execution_count": 12,
   "metadata": {},
   "outputs": [
    {
     "name": "stdout",
     "output_type": "stream",
     "text": [
      "False\n",
      "True\n"
     ]
    }
   ],
   "source": [
    "print(is_English('爱奇艺PPS -《欢乐颂2》电视剧热播'))\n",
    "print(is_English('Instragram'))"
   ]
  },
  {
   "cell_type": "markdown",
   "metadata": {},
   "source": [
    "The function seem ok, except that it flags certain English apps as non-English. For example:"
   ]
  },
  {
   "cell_type": "code",
   "execution_count": 13,
   "metadata": {},
   "outputs": [
    {
     "name": "stdout",
     "output_type": "stream",
     "text": [
      "False\n",
      "False\n"
     ]
    }
   ],
   "source": [
    "print(is_English('Docs To Go™ Free Office Suite'))\n",
    "print(is_English('Instachat 😜'))"
   ]
  },
  {
   "cell_type": "markdown",
   "metadata": {},
   "source": [
    "As it happens, ™ and 😜 have ASCII equivalents over 127.\n",
    "\n",
    "In its current form, the function will delete many English apps if we used it on our datasets. To amend this, we'll only remove an app if its name has more than three characters with ASCII equivalents outside the range 0-127.\n",
    "\n",
    "We'll revise the ```is_English``` function to reflect that condition."
   ]
  },
  {
   "cell_type": "code",
   "execution_count": 14,
   "metadata": {},
   "outputs": [],
   "source": [
    "def is_English(name):\n",
    "    ascii_over_127 = []\n",
    "    for char in name:\n",
    "       if ord(char) > 127:\n",
    "        ascii_over_127.append(char)\n",
    "    \n",
    "    if len(ascii_over_127) > 3:\n",
    "        return False\n",
    "    return True"
   ]
  },
  {
   "cell_type": "markdown",
   "metadata": {},
   "source": [
    "Let's verify it."
   ]
  },
  {
   "cell_type": "code",
   "execution_count": 15,
   "metadata": {},
   "outputs": [
    {
     "name": "stdout",
     "output_type": "stream",
     "text": [
      "True\n",
      "True\n"
     ]
    }
   ],
   "source": [
    "print(is_English('Instachat 😜'))\n",
    "print(is_English('Docs To Go™ Free Office Suite'))"
   ]
  },
  {
   "cell_type": "markdown",
   "metadata": {},
   "source": [
    "Now that ```is_English``` satisfies our condition, we'll clean the Play Store data accordingly. "
   ]
  },
  {
   "cell_type": "code",
   "execution_count": 16,
   "metadata": {},
   "outputs": [],
   "source": [
    "android_final = []\n",
    "apple_final = []\n",
    "\n",
    "for app in android_clean:\n",
    "    name = app[0]\n",
    "    if is_English(name):\n",
    "        android_final.append(app)\n",
    "\n",
    "for app in apple_data[1:]:\n",
    "    name = app[1]\n",
    "    if is_English(name):\n",
    "        apple_final.append(app)"
   ]
  },
  {
   "cell_type": "markdown",
   "metadata": {},
   "source": [
    "We can now see how many rows are left in the revised datasets."
   ]
  },
  {
   "cell_type": "code",
   "execution_count": 17,
   "metadata": {},
   "outputs": [
    {
     "name": "stdout",
     "output_type": "stream",
     "text": [
      "['Photo Editor & Candy Camera & Grid & ScrapBook', 'ART_AND_DESIGN', '4.1', '159', '19M', '10,000+', 'Free', '0', 'Everyone', 'Art & Design', 'January 7, 2018', '1.0.0', '4.0.3 and up']\n",
      "\n",
      "\n",
      "['U Launcher Lite – FREE Live Cool Themes, Hide Apps', 'ART_AND_DESIGN', '4.7', '87510', '8.7M', '5,000,000+', 'Free', '0', 'Everyone', 'Art & Design', 'August 1, 2018', '1.2.4', '4.0.3 and up']\n",
      "\n",
      "\n",
      "Number of rows: 9614\n",
      "Number of columns: 13\n",
      "\n",
      "\n",
      "['284882215', 'Facebook', '389879808', 'USD', '0.0', '2974676', '212', '3.5', '3.5', '95.0', '4+', 'Social Networking', '37', '1', '29', '1']\n",
      "\n",
      "\n",
      "['389801252', 'Instagram', '113954816', 'USD', '0.0', '2161558', '1289', '4.5', '4.0', '10.23', '12+', 'Photo & Video', '37', '0', '29', '1']\n",
      "\n",
      "\n",
      "Number of rows: 6183\n",
      "Number of columns: 16\n"
     ]
    }
   ],
   "source": [
    "explore_data(android_final, 0,2, True)\n",
    "print(\"\\n\")\n",
    "explore_data(apple_final, 0,2, True)"
   ]
  },
  {
   "cell_type": "markdown",
   "metadata": {},
   "source": [
    "## Retrieving Free Apps\n",
    "\n",
    "At the beginning of the project, we mentioned that only free apps were under consideration.  This is what we now filter for."
   ]
  },
  {
   "cell_type": "code",
   "execution_count": 18,
   "metadata": {},
   "outputs": [
    {
     "name": "stdout",
     "output_type": "stream",
     "text": [
      "8864\n",
      "3222\n",
      "[['Photo Editor & Candy Camera & Grid & ScrapBook', 'ART_AND_DESIGN', '4.1', '159', '19M', '10,000+', 'Free', '0', 'Everyone', 'Art & Design', 'January 7, 2018', '1.0.0', '4.0.3 and up'], ['U Launcher Lite – FREE Live Cool Themes, Hide Apps', 'ART_AND_DESIGN', '4.7', '87510', '8.7M', '5,000,000+', 'Free', '0', 'Everyone', 'Art & Design', 'August 1, 2018', '1.2.4', '4.0.3 and up']]\n"
     ]
    }
   ],
   "source": [
    "android_free = []\n",
    "apple_free = []\n",
    "\n",
    "for app in apple_final:\n",
    "    price = float(app[4])\n",
    "    if price == 0.0:\n",
    "        apple_free.append(app)\n",
    "\n",
    "for app in android_final:\n",
    "    price = float(app[7].replace('$',''))\n",
    "    if price == 0:\n",
    "        android_free.append(app)\n",
    "        \n",
    "print(len(android_free))\n",
    "print(len(apple_free))\n",
    "\n",
    "print(android_free[0:2])"
   ]
  },
  {
   "cell_type": "markdown",
   "metadata": {},
   "source": [
    "We go from 9614 to 8864 Play Store apps, and from 6183 to 3222 App Store apps."
   ]
  },
  {
   "cell_type": "markdown",
   "metadata": {},
   "source": [
    "## Most Common Apps by Genre\n",
    "\n",
    "### Part 1\n",
    "\n",
    "To maximize revenue (remember these apps are free and revenue derives from advertising), an app needs to be attractive to a wide demographic and available on both the Google and Apple app stores.  For instance, a profile that might work well for both markets might be a productivity app that makes use of gamification.\n",
    "\n",
    "To minimize risks and overhead, our validation strategy for an app idea is comprised of three steps:\n",
    "\n",
    "1) Build a minimal Android version of the app, and add it to Google Play.\n",
    "\n",
    "2) If the app has a good response from users, we then develop it further.\n",
    "\n",
    "3) If the app is profitable after six months, we also build an iOS version of the app and add it to the App Store.\n",
    "\n",
    "We can begin our analysis by finding the most common genres for both app stores.\n",
    "\n",
    "We'll build a frequency table for the ```prime_genre``` column of the App Store data set, and the ```Genres``` and ```Category``` columns of the Google Play data set.\n"
   ]
  },
  {
   "cell_type": "markdown",
   "metadata": {},
   "source": [
    "### Part 2\n",
    "\n",
    "Let's create a function that generates frequency tables displaying percentages for any given category"
   ]
  },
  {
   "cell_type": "code",
   "execution_count": 19,
   "metadata": {},
   "outputs": [
    {
     "name": "stdout",
     "output_type": "stream",
     "text": [
      "{'Social Networking': 3.29, 'Photo & Video': 4.966, 'Games': 58.163, 'Music': 2.048, 'Reference': 0.559, 'Health & Fitness': 2.017, 'Weather': 0.869, 'Utilities': 2.514, 'Travel': 1.241, 'Shopping': 2.607, 'News': 1.335, 'Navigation': 0.186, 'Lifestyle': 1.583, 'Entertainment': 7.883, 'Food & Drink': 0.807, 'Sports': 2.142, 'Book': 0.435, 'Finance': 1.117, 'Education': 3.662, 'Productivity': 1.738, 'Business': 0.528, 'Catalogs': 0.124, 'Medical': 0.186}\n"
     ]
    }
   ],
   "source": [
    "def freq_table(dataset, index):\n",
    "    table = {}\n",
    "    total = 0\n",
    "    for row in dataset:\n",
    "        output = row[index]\n",
    "        if output in table:\n",
    "            table[output] +=1\n",
    "        else:\n",
    "            table[output] = 1\n",
    "        total += 1\n",
    "\n",
    "    for key in table:\n",
    "        table[key] = round((table[key] / total) * 100, 3)\n",
    "    return table    \n",
    "\n",
    "print(freq_table(apple_free,-5))"
   ]
  },
  {
   "cell_type": "markdown",
   "metadata": {},
   "source": [
    "The ```display_table``` function will format the table in descending order and be more human-readable"
   ]
  },
  {
   "cell_type": "code",
   "execution_count": 20,
   "metadata": {},
   "outputs": [],
   "source": [
    "def display_table(dataset, index):\n",
    "    table = freq_table(dataset, index)\n",
    "    table_display = []\n",
    "    for key in table:\n",
    "        key_val_as_tuple = (table[key], key)\n",
    "        table_display.append(key_val_as_tuple)\n",
    "\n",
    "    table_sorted = sorted(table_display, reverse = True)\n",
    "    for entry in table_sorted:\n",
    "        print(entry[1], ':', entry[0])"
   ]
  },
  {
   "cell_type": "markdown",
   "metadata": {},
   "source": [
    "These two functions can be used to display a frequency table for the columns ```prime_genre```, ```Genres```, and ```Category```."
   ]
  },
  {
   "cell_type": "code",
   "execution_count": 21,
   "metadata": {},
   "outputs": [
    {
     "name": "stdout",
     "output_type": "stream",
     "text": [
      "Games : 58.163\n",
      "Entertainment : 7.883\n",
      "Photo & Video : 4.966\n",
      "Education : 3.662\n",
      "Social Networking : 3.29\n",
      "Shopping : 2.607\n",
      "Utilities : 2.514\n",
      "Sports : 2.142\n",
      "Music : 2.048\n",
      "Health & Fitness : 2.017\n",
      "Productivity : 1.738\n",
      "Lifestyle : 1.583\n",
      "News : 1.335\n",
      "Travel : 1.241\n",
      "Finance : 1.117\n",
      "Weather : 0.869\n",
      "Food & Drink : 0.807\n",
      "Reference : 0.559\n",
      "Business : 0.528\n",
      "Book : 0.435\n",
      "Navigation : 0.186\n",
      "Medical : 0.186\n",
      "Catalogs : 0.124\n"
     ]
    }
   ],
   "source": [
    "display_table(apple_free, 11) # prime_genre"
   ]
  },
  {
   "cell_type": "code",
   "execution_count": 22,
   "metadata": {},
   "outputs": [
    {
     "name": "stdout",
     "output_type": "stream",
     "text": [
      "Tools : 8.45\n",
      "Entertainment : 6.069\n",
      "Education : 5.347\n",
      "Business : 4.592\n",
      "Productivity : 3.892\n",
      "Lifestyle : 3.892\n",
      "Finance : 3.7\n",
      "Medical : 3.531\n",
      "Sports : 3.463\n",
      "Personalization : 3.317\n",
      "Communication : 3.238\n",
      "Action : 3.102\n",
      "Health & Fitness : 3.08\n",
      "Photography : 2.944\n",
      "News & Magazines : 2.798\n",
      "Social : 2.662\n",
      "Travel & Local : 2.324\n",
      "Shopping : 2.245\n",
      "Books & Reference : 2.144\n",
      "Simulation : 2.042\n",
      "Dating : 1.861\n",
      "Arcade : 1.85\n",
      "Video Players & Editors : 1.771\n",
      "Casual : 1.76\n",
      "Maps & Navigation : 1.399\n",
      "Food & Drink : 1.241\n",
      "Puzzle : 1.128\n",
      "Racing : 0.993\n",
      "Role Playing : 0.936\n",
      "Libraries & Demo : 0.936\n",
      "Auto & Vehicles : 0.925\n",
      "Strategy : 0.914\n",
      "House & Home : 0.824\n",
      "Weather : 0.801\n",
      "Events : 0.711\n",
      "Adventure : 0.677\n",
      "Comics : 0.609\n",
      "Beauty : 0.598\n",
      "Art & Design : 0.598\n",
      "Parenting : 0.496\n",
      "Card : 0.451\n",
      "Casino : 0.429\n",
      "Trivia : 0.417\n",
      "Educational;Education : 0.395\n",
      "Board : 0.384\n",
      "Educational : 0.372\n",
      "Education;Education : 0.338\n",
      "Word : 0.259\n",
      "Casual;Pretend Play : 0.237\n",
      "Music : 0.203\n",
      "Racing;Action & Adventure : 0.169\n",
      "Puzzle;Brain Games : 0.169\n",
      "Entertainment;Music & Video : 0.169\n",
      "Casual;Brain Games : 0.135\n",
      "Casual;Action & Adventure : 0.135\n",
      "Arcade;Action & Adventure : 0.124\n",
      "Action;Action & Adventure : 0.102\n",
      "Educational;Pretend Play : 0.09\n",
      "Simulation;Action & Adventure : 0.079\n",
      "Parenting;Education : 0.079\n",
      "Entertainment;Brain Games : 0.079\n",
      "Board;Brain Games : 0.079\n",
      "Parenting;Music & Video : 0.068\n",
      "Educational;Brain Games : 0.068\n",
      "Casual;Creativity : 0.068\n",
      "Art & Design;Creativity : 0.068\n",
      "Education;Pretend Play : 0.056\n",
      "Role Playing;Pretend Play : 0.045\n",
      "Education;Creativity : 0.045\n",
      "Role Playing;Action & Adventure : 0.034\n",
      "Puzzle;Action & Adventure : 0.034\n",
      "Entertainment;Creativity : 0.034\n",
      "Entertainment;Action & Adventure : 0.034\n",
      "Educational;Creativity : 0.034\n",
      "Educational;Action & Adventure : 0.034\n",
      "Education;Music & Video : 0.034\n",
      "Education;Brain Games : 0.034\n",
      "Education;Action & Adventure : 0.034\n",
      "Adventure;Action & Adventure : 0.034\n",
      "Video Players & Editors;Music & Video : 0.023\n",
      "Sports;Action & Adventure : 0.023\n",
      "Simulation;Pretend Play : 0.023\n",
      "Puzzle;Creativity : 0.023\n",
      "Music;Music & Video : 0.023\n",
      "Entertainment;Pretend Play : 0.023\n",
      "Casual;Education : 0.023\n",
      "Board;Action & Adventure : 0.023\n",
      "Video Players & Editors;Creativity : 0.011\n",
      "Trivia;Education : 0.011\n",
      "Travel & Local;Action & Adventure : 0.011\n",
      "Tools;Education : 0.011\n",
      "Strategy;Education : 0.011\n",
      "Strategy;Creativity : 0.011\n",
      "Strategy;Action & Adventure : 0.011\n",
      "Simulation;Education : 0.011\n",
      "Role Playing;Brain Games : 0.011\n",
      "Racing;Pretend Play : 0.011\n",
      "Puzzle;Education : 0.011\n",
      "Parenting;Brain Games : 0.011\n",
      "Music & Audio;Music & Video : 0.011\n",
      "Lifestyle;Pretend Play : 0.011\n",
      "Lifestyle;Education : 0.011\n",
      "Health & Fitness;Education : 0.011\n",
      "Health & Fitness;Action & Adventure : 0.011\n",
      "Entertainment;Education : 0.011\n",
      "Communication;Creativity : 0.011\n",
      "Comics;Creativity : 0.011\n",
      "Casual;Music & Video : 0.011\n",
      "Card;Action & Adventure : 0.011\n",
      "Books & Reference;Education : 0.011\n",
      "Art & Design;Pretend Play : 0.011\n",
      "Art & Design;Action & Adventure : 0.011\n",
      "Arcade;Pretend Play : 0.011\n",
      "Adventure;Education : 0.011\n"
     ]
    }
   ],
   "source": [
    "display_table(android_free, 9)"
   ]
  },
  {
   "cell_type": "code",
   "execution_count": 48,
   "metadata": {},
   "outputs": [
    {
     "name": "stdout",
     "output_type": "stream",
     "text": [
      "FAMILY : 18.908\n",
      "GAME : 9.725\n",
      "TOOLS : 8.461\n",
      "BUSINESS : 4.592\n",
      "LIFESTYLE : 3.903\n",
      "PRODUCTIVITY : 3.892\n",
      "FINANCE : 3.7\n",
      "MEDICAL : 3.531\n",
      "SPORTS : 3.396\n",
      "PERSONALIZATION : 3.317\n",
      "COMMUNICATION : 3.238\n",
      "HEALTH_AND_FITNESS : 3.08\n",
      "PHOTOGRAPHY : 2.944\n",
      "NEWS_AND_MAGAZINES : 2.798\n",
      "SOCIAL : 2.662\n",
      "TRAVEL_AND_LOCAL : 2.335\n",
      "SHOPPING : 2.245\n",
      "BOOKS_AND_REFERENCE : 2.144\n",
      "DATING : 1.861\n",
      "VIDEO_PLAYERS : 1.794\n",
      "MAPS_AND_NAVIGATION : 1.399\n",
      "FOOD_AND_DRINK : 1.241\n",
      "EDUCATION : 1.162\n",
      "ENTERTAINMENT : 0.959\n",
      "LIBRARIES_AND_DEMO : 0.936\n",
      "AUTO_AND_VEHICLES : 0.925\n",
      "HOUSE_AND_HOME : 0.824\n",
      "WEATHER : 0.801\n",
      "EVENTS : 0.711\n",
      "PARENTING : 0.654\n",
      "ART_AND_DESIGN : 0.643\n",
      "COMICS : 0.62\n",
      "BEAUTY : 0.598\n"
     ]
    }
   ],
   "source": [
    "display_table(android_free, 1) # Category"
   ]
  },
  {
   "cell_type": "markdown",
   "metadata": {},
   "source": [
    "### Part 3: Analysis\n",
    "\n",
    "The majority of apps on the App store (> 58%) consist of Games, but that doesn't mean it comprises the category downloaded most. \n",
    "\n",
    "For the Play Store, we'll stick with the ```Category``` column since the ```Genres``` column looks a bit too-specific.  Interestingly, games are not the most popular app type but rather Family.  Again, this doesn't necessarily imply that Family apps are the most downloaded apps.  \n",
    "\n",
    "Determining the most downloaded app category for each app store is next."
   ]
  },
  {
   "cell_type": "markdown",
   "metadata": {},
   "source": [
    "## Most Popular Apps on the App Store\n",
    "\n",
    "One way to find out what genres are the most popular (have the most users) is to calculate the average number of installs for each app genre. For the Google Play data set, we can find this information in the ```Installs``` column, but this information is missing for the App Store data set. As a workaround, we'll take the total number of user ratings as a proxy, which we can find in the ```rating_count_tot``` app.\n",
    "\n",
    "We calculate the average number of user ratings for each app category below."
   ]
  },
  {
   "cell_type": "code",
   "execution_count": 23,
   "metadata": {},
   "outputs": [
    {
     "data": {
      "text/plain": [
       "[('Navigation', 86090.33333333333),\n",
       " ('Reference', 74942.11111111111),\n",
       " ('Social Networking', 71548.34905660378),\n",
       " ('Music', 57326.530303030304),\n",
       " ('Weather', 52279.892857142855),\n",
       " ('Book', 39758.5),\n",
       " ('Food & Drink', 33333.92307692308),\n",
       " ('Finance', 31467.944444444445),\n",
       " ('Photo & Video', 28441.54375),\n",
       " ('Travel', 28243.8),\n",
       " ('Shopping', 26919.690476190477),\n",
       " ('Health & Fitness', 23298.015384615384),\n",
       " ('Sports', 23008.898550724636),\n",
       " ('Games', 22788.6696905016),\n",
       " ('News', 21248.023255813954),\n",
       " ('Productivity', 21028.410714285714),\n",
       " ('Utilities', 18684.456790123455),\n",
       " ('Lifestyle', 16485.764705882353),\n",
       " ('Entertainment', 14029.830708661417),\n",
       " ('Business', 7491.117647058823),\n",
       " ('Education', 7003.983050847458),\n",
       " ('Catalogs', 4004.0),\n",
       " ('Medical', 612.0)]"
      ]
     },
     "execution_count": 23,
     "metadata": {},
     "output_type": "execute_result"
    }
   ],
   "source": [
    "apple_genre_freq = freq_table(apple_free, 11)\n",
    "\n",
    "apple_popularity = {}\n",
    "for genre in apple_genre_freq:\n",
    "    total = 0 # stores sum of the number of ratings for each genre\n",
    "    len_genre = 0 # stores number of apps specific to each genre\n",
    "    \n",
    "    for app in apple_free:\n",
    "        genre_app = app[-5]\n",
    "        if genre_app == genre:\n",
    "            ratings = float(app[5])\n",
    "            total += ratings\n",
    "            len_genre += 1\n",
    "\n",
    "    avg_user_ratings = total/len_genre\n",
    "    apple_popularity[genre] = avg_user_ratings\n",
    "\n",
    "sorted(apple_popularity.items(), key = lambda k: k[1], reverse = True)"
   ]
  },
  {
   "cell_type": "markdown",
   "metadata": {},
   "source": [
    "Navigation apps are the most reviewed apps on the App store, with Social Networking apps coming second.  Perhaps a good idea is to create a dating app that features free messaging features (a feature that with most apps requires a subscription).  Of course, this app would be supported by advertising but it could be a game changer in the dating world. "
   ]
  },
  {
   "cell_type": "markdown",
   "metadata": {},
   "source": [
    "## Most Popular Apps on the Play Store "
   ]
  },
  {
   "cell_type": "markdown",
   "metadata": {},
   "source": [
    "We have data about the number of installs for the Google Play market, so we should be able to get a clearer picture about genre popularity. However, the install numbers don't seem precise enough — we can see that most values are open-ended (100+, 1,000+, 5,000+, etc.)\n",
    "\n",
    "We don't know whether an app with 100,000+ installs has 100,000 installs, 200,000, or 350,000. However, we don't need very precise data for our purposes — we only want to find out which app genres attract the most users, and we don't need perfect precision with respect to the number of users.\n",
    "\n",
    "We're going to leave the numbers as they are, which means that we'll consider that an app with 100,000+ installs has 100,000 installs, and an app with 1,000,000+ installs has 1,000,000 installs, and so on.\n",
    "\n",
    "The analysis process is much the same as that of the App Store, except that the result will be stored in a dictionary so the results can be sorted."
   ]
  },
  {
   "cell_type": "code",
   "execution_count": 24,
   "metadata": {},
   "outputs": [
    {
     "data": {
      "text/plain": [
       "[('COMMUNICATION', 38456119.167247385),\n",
       " ('VIDEO_PLAYERS', 24727872.452830188),\n",
       " ('SOCIAL', 23253652.127118643),\n",
       " ('PHOTOGRAPHY', 17840110.40229885),\n",
       " ('PRODUCTIVITY', 16787331.344927534),\n",
       " ('GAME', 15588015.603248259),\n",
       " ('TRAVEL_AND_LOCAL', 13984077.710144928),\n",
       " ('ENTERTAINMENT', 11640705.88235294),\n",
       " ('TOOLS', 10801391.298666667),\n",
       " ('NEWS_AND_MAGAZINES', 9549178.467741935),\n",
       " ('BOOKS_AND_REFERENCE', 8767811.894736841),\n",
       " ('SHOPPING', 7036877.311557789),\n",
       " ('PERSONALIZATION', 5201482.6122448975),\n",
       " ('WEATHER', 5074486.197183099),\n",
       " ('HEALTH_AND_FITNESS', 4188821.9853479853),\n",
       " ('MAPS_AND_NAVIGATION', 4056941.7741935486),\n",
       " ('FAMILY', 3695641.8198090694),\n",
       " ('SPORTS', 3638640.1428571427),\n",
       " ('ART_AND_DESIGN', 1986335.0877192982),\n",
       " ('FOOD_AND_DRINK', 1924897.7363636363),\n",
       " ('EDUCATION', 1833495.145631068),\n",
       " ('BUSINESS', 1712290.1474201474),\n",
       " ('LIFESTYLE', 1437816.2687861272),\n",
       " ('FINANCE', 1387692.475609756),\n",
       " ('HOUSE_AND_HOME', 1331540.5616438356),\n",
       " ('DATING', 854028.8303030303),\n",
       " ('COMICS', 817657.2727272727),\n",
       " ('AUTO_AND_VEHICLES', 647317.8170731707),\n",
       " ('LIBRARIES_AND_DEMO', 638503.734939759),\n",
       " ('PARENTING', 542603.6206896552),\n",
       " ('BEAUTY', 513151.88679245283),\n",
       " ('EVENTS', 253542.22222222222),\n",
       " ('MEDICAL', 120550.61980830671)]"
      ]
     },
     "execution_count": 24,
     "metadata": {},
     "output_type": "execute_result"
    }
   ],
   "source": [
    "android_freq = freq_table(android_free, 1)\n",
    "\n",
    "android_popularity = {} # stores final results\n",
    "for category in android_freq:\n",
    "    total = 0 # sum on installs for a genre\n",
    "    len_category = 0 # number of apps for a genre\n",
    "    \n",
    "    for app in android_free:\n",
    "        category_app = app[1]\n",
    "        if category_app == category:\n",
    "            installs = app[5]\n",
    "            installs = installs.replace('+', '').replace(',', '')\n",
    "            installs = float(installs)\n",
    "            total += installs\n",
    "            len_category += 1 \n",
    "    \n",
    "    avg_installs = total/len_category\n",
    "    android_popularity[category] = avg_installs\n",
    "    \n",
    "sorted(android_popularity.items(), key = lambda k: k[1], reverse = True) "
   ]
  },
  {
   "cell_type": "markdown",
   "metadata": {},
   "source": [
    "Communication apps are the most downloaded apps on the Play Store (> 38 million installs).  In a similar vein, a dating app with free messaging capabilities (supported by advertising) may be an interesting starting point.  Though that may fall under the Social category."
   ]
  },
  {
   "cell_type": "code",
   "execution_count": 74,
   "metadata": {},
   "outputs": [
    {
     "name": "stdout",
     "output_type": "stream",
     "text": [
      "LIFESTYLE\n"
     ]
    }
   ],
   "source": [
    "dating_app = 'Tinder'\n",
    "for app in google_data:\n",
    "    name = app[0]\n",
    "    if name == 'Tinder':\n",
    "        print(app[1])"
   ]
  },
  {
   "cell_type": "markdown",
   "metadata": {},
   "source": [
    "Actually, Tinder falls under Lifestyle, which is farther down the list (it's not even in the Dating category!)  Nevertheless, with frustration over dating apps currently, perhaps free messaging will be a fresh wave of relief for everybody (into dating)."
   ]
  },
  {
   "cell_type": "markdown",
   "metadata": {},
   "source": [
    "## Conclusions\n",
    "\n",
    "This project explorted data cleaning and analysis of the Google Play and Apple App Store datasets with the purpose of recommending profitable app profiles.  While a number of recommendations can be made, one inroad can be a dating app with free messaging capabilities.  A more refined search of the categories in the future can yield even more opportunities."
   ]
  }
 ],
 "metadata": {
  "kernelspec": {
   "display_name": "Python 3",
   "language": "python",
   "name": "python3"
  },
  "language_info": {
   "codemirror_mode": {
    "name": "ipython",
    "version": 3
   },
   "file_extension": ".py",
   "mimetype": "text/x-python",
   "name": "python",
   "nbconvert_exporter": "python",
   "pygments_lexer": "ipython3",
   "version": "3.6.2"
  }
 },
 "nbformat": 4,
 "nbformat_minor": 2
}
